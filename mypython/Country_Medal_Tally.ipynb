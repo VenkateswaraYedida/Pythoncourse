{
 "cells": [
  {
   "cell_type": "code",
   "execution_count": 10,
   "metadata": {},
   "outputs": [
    {
     "name": "stdout",
     "output_type": "stream",
     "text": [
      "Country with Max Gold Medals: United States\n",
      "\n",
      "Country with More than 20  Gold Medals: ['Great Britain' 'China ' 'Russia' 'United States']\n",
      "\n",
      "Country                Gold       Silver     Bronze     Total     \n",
      "Great Britain           29         17         19         65\n",
      "China                   38         28         22         88\n",
      "Russia                  24         25         32         81\n",
      "United States           46         28         29        103\n",
      "Korea                   13          8          7         28\n",
      "Japan                    7         14         17         38\n",
      "Germany                 11         11         14         36\n"
     ]
    }
   ],
   "source": [
    "import numpy as np\n",
    "import pandas as pd\n",
    "\n",
    "# Reading the Medal tally table from the excel file\n",
    "df = pd.read_excel('Olympic 2012 Medal Tally.xlsx')\n",
    "\n",
    "# Converting dataframe into numpy array\n",
    "np_df =df.to_numpy()\n",
    "\n",
    "# Slicing individual numpy dataframes\n",
    "np_country = np_df[2:10,1]\n",
    "np_country_Code = np_df[2:10,2]\n",
    "np_year = np_df[2:10,3]\n",
    "np_Gold = np_df[2:10,4]\n",
    "np_Silver = np_df[2:10,5]\n",
    "np_Bronze = np_df[2:10,6]\n",
    "\n",
    "print('Country with Max Gold Medals: {}'.format(np_country[np_Gold.argmax()]))\n",
    "\n",
    "print('\\nCountry with More than 20  Gold Medals: {}'.format(np_country[np_Gold > 20]))\n",
    "\n",
    "#Printing countries medal tally\n",
    "print('{0:23}'.format('\\nCountry'),'{0:10}'.format('Gold'),'{0:10}'.format('Silver'),'{0:10}'.format('Bronze'),'{0:10}'.format('Total'))\n",
    "for i in range(len(np_country)):\n",
    "    total = np_Gold[i] + np_Silver[i] + np_Bronze[i]\n",
    "    print('{0:15}'.format(np_country[i]),'{0:10}'.format(np_Gold[i]),'{0:10}'.format(np_Silver[i]), '{0:10}'.format(np_Bronze[i]),'{0:10}'.format(total))"
   ]
  },
  {
   "cell_type": "code",
   "execution_count": null,
   "metadata": {},
   "outputs": [],
   "source": []
  },
  {
   "cell_type": "code",
   "execution_count": null,
   "metadata": {},
   "outputs": [],
   "source": []
  }
 ],
 "metadata": {
  "kernelspec": {
   "display_name": "Python 3",
   "language": "python",
   "name": "python3"
  },
  "language_info": {
   "codemirror_mode": {
    "name": "ipython",
    "version": 3
   },
   "file_extension": ".py",
   "mimetype": "text/x-python",
   "name": "python",
   "nbconvert_exporter": "python",
   "pygments_lexer": "ipython3",
   "version": "3.7.4"
  }
 },
 "nbformat": 4,
 "nbformat_minor": 4
}
